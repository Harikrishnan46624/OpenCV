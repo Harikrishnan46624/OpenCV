{
 "cells": [
  {
   "cell_type": "code",
   "execution_count": 6,
   "id": "8bcf68fe-ad07-4dfb-869b-734e7272c617",
   "metadata": {},
   "outputs": [],
   "source": [
    "# Press CTRL + ENTER to run this line\n",
    "# You should see an * between the [ ] on the left\n",
    "# OpenCV takes a couple seconds to import the first time\n",
    "\n",
    "import cv2 \n",
    "\n",
    "\n",
    "# Now let's import numpy\n",
    "# We use as np, so that everything we call on numpy, we can type np instead\n",
    "# It's short and looks neater\n",
    "\n",
    "import numpy as np "
   ]
  },
  {
   "cell_type": "code",
   "execution_count": 7,
   "id": "3acabeb8-2ee1-4438-96c4-be5f894f4cb4",
   "metadata": {},
   "outputs": [],
   "source": [
    "# We don't need to do this again, but it's a good habit\n",
    "import cv2 \n",
    "\n",
    "# Load an image using 'imread' specifying the path to image\n",
    "input = cv2.imread(r\"E:\\Programming\\OpenCV\\elephant.jpg\")\n",
    "\n",
    "# Our file 'input.jpg' is now loaded and stored in python \n",
    "# as a varaible we named 'image'\n",
    "\n",
    "# To display our image variable, we use 'imshow'\n",
    "# The first parameter will be title shown on image window\n",
    "# The second parameter is the image varialbe\n",
    "cv2.imshow('Test Elephant Image', input)\n",
    "\n",
    "# 'waitKey' allows us to input information when a image window is open\n",
    "# By leaving it blank it just waits for anykey to be pressed before \n",
    "# continuing. By placing numbers (except 0), we can specify a delay for\n",
    "# how long you keep the window open (time is in milliseconds here)\n",
    "cv2.waitKey()\n",
    "\n",
    "# This closes all open windows \n",
    "# Failure to place this will cause your program to hang\n",
    "cv2.destroyAllWindows()"
   ]
  },
  {
   "cell_type": "code",
   "execution_count": 4,
   "id": "268d6ad1-976f-4687-a264-0b8673bb3ebb",
   "metadata": {},
   "outputs": [],
   "source": [
    "input = cv2.imread(r\"E:\\Programming\\OpenCV\\elephant.jpg\")"
   ]
  },
  {
   "cell_type": "code",
   "execution_count": 5,
   "id": "f4773ae6-cb9f-4b75-8171-e5305c767db6",
   "metadata": {},
   "outputs": [],
   "source": [
    "cv2.imshow('Test Elephant Image', input)\n",
    "cv2.waitKey()\n",
    "cv2.destroyAllWindows()"
   ]
  },
  {
   "cell_type": "markdown",
   "id": "2645471a-1a71-4f84-ac81-70df232e5a20",
   "metadata": {},
   "source": [
    "Let's take a closer look at how images are stored\n"
   ]
  },
  {
   "cell_type": "code",
   "execution_count": 8,
   "id": "c9af230b-f1cf-4cae-a6ee-6d67759f44f0",
   "metadata": {},
   "outputs": [
    {
     "data": {
      "text/plain": [
       "(519, 778, 3)"
      ]
     },
     "execution_count": 8,
     "metadata": {},
     "output_type": "execute_result"
    }
   ],
   "source": [
    "input.shape"
   ]
  },
  {
   "cell_type": "code",
   "execution_count": 10,
   "id": "a7010ac7-cd57-489c-9eab-f2a45e6e2024",
   "metadata": {},
   "outputs": [
    {
     "name": "stdout",
     "output_type": "stream",
     "text": [
      "Height of Image: 519 pixels\n",
      "Width of Image:  778 pixels\n"
     ]
    }
   ],
   "source": [
    "print('Height of Image:', int(input.shape[0]), 'pixels')\n",
    "print('Width of Image: ', int(input.shape[1]), 'pixels')"
   ]
  },
  {
   "cell_type": "markdown",
   "id": "bc6d478c-b673-4002-8849-521c6ce128da",
   "metadata": {},
   "source": [
    "How do we save images we edit in OpenCV?\n"
   ]
  },
  {
   "cell_type": "code",
   "execution_count": 11,
   "id": "6eb58e27-f910-4172-92dd-6d33beafe183",
   "metadata": {},
   "outputs": [
    {
     "data": {
      "text/plain": [
       "True"
      ]
     },
     "execution_count": 11,
     "metadata": {},
     "output_type": "execute_result"
    }
   ],
   "source": [
    "# Simply use 'imwrite' specificing the file name and the image to be saved\n",
    "cv2.imwrite('output.png', input)\n",
    "cv2.imwrite('output.jpg', input)"
   ]
  },
  {
   "cell_type": "code",
   "execution_count": null,
   "id": "41c72d1e-5399-4e92-9b6b-0c453be95bd7",
   "metadata": {},
   "outputs": [],
   "source": []
  }
 ],
 "metadata": {
  "kernelspec": {
   "display_name": "Python 3 (ipykernel)",
   "language": "python",
   "name": "python3"
  },
  "language_info": {
   "codemirror_mode": {
    "name": "ipython",
    "version": 3
   },
   "file_extension": ".py",
   "mimetype": "text/x-python",
   "name": "python",
   "nbconvert_exporter": "python",
   "pygments_lexer": "ipython3",
   "version": "3.11.6"
  }
 },
 "nbformat": 4,
 "nbformat_minor": 5
}
