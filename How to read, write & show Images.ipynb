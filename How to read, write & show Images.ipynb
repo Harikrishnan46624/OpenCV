{
 "cells": [
  {
   "cell_type": "code",
   "execution_count": 2,
   "id": "c37482ad-4875-4bfd-a7d2-2c88ac6dcde1",
   "metadata": {},
   "outputs": [],
   "source": [
    "import cv2"
   ]
  },
  {
   "cell_type": "markdown",
   "id": "a40801c7-af8c-4389-8cff-7ef50c8b85e5",
   "metadata": {},
   "source": [
    "SECOND ARGUMENT USING FLAG"
   ]
  },
  {
   "cell_type": "markdown",
   "id": "5b07dcce-cf85-4e3b-9323-9115b988e623",
   "metadata": {},
   "source": [
    "<img src=\"Screenshot.png\"/>"
   ]
  },
  {
   "cell_type": "code",
   "execution_count": 3,
   "id": "7a3d1dd5-3b03-4183-ae3b-96a692c18749",
   "metadata": {},
   "outputs": [],
   "source": [
    "img = cv2.imread('lena.jpg', 0)"
   ]
  },
  {
   "cell_type": "code",
   "execution_count": 4,
   "id": "3f6941eb-2d2c-44e1-8e81-ccd4fd5d0906",
   "metadata": {},
   "outputs": [
    {
     "name": "stdout",
     "output_type": "stream",
     "text": [
      "[[163 162 161 ... 170 154 130]\n",
      " [162 162 162 ... 173 155 126]\n",
      " [162 162 163 ... 170 155 128]\n",
      " ...\n",
      " [ 43  42  51 ... 103 101  99]\n",
      " [ 41  42  55 ... 103 105 106]\n",
      " [ 42  44  57 ... 102 106 109]]\n"
     ]
    }
   ],
   "source": [
    "print(img)"
   ]
  },
  {
   "cell_type": "code",
   "execution_count": 5,
   "metadata": {},
   "outputs": [
    {
     "name": "stdout",
     "output_type": "stream",
     "text": [
      "uint8\n"
     ]
    }
   ],
   "source": [
    "print(img.dtype)"
   ]
  },
  {
   "cell_type": "code",
   "execution_count": 12,
   "id": "d67e2093-01d1-4caa-9b8c-6a3404ef9c35",
   "metadata": {},
   "outputs": [],
   "source": [
    "cv2.imshow(\"image\", img)\n",
    "cv2.waitKey()\n",
    "cv2.destroyAllWindows()"
   ]
  },
  {
   "cell_type": "code",
   "execution_count": 6,
   "id": "6804989f-26b9-4e7f-a3f1-ae954c1d9abf",
   "metadata": {},
   "outputs": [],
   "source": [
    "img = cv2.imread('lena.jpg', 1)"
   ]
  },
  {
   "cell_type": "code",
   "execution_count": 7,
   "id": "dd8f0b61-0864-4ac9-89b4-1a4cd674ff6b",
   "metadata": {},
   "outputs": [],
   "source": [
    "cv2.imshow(\"image\", img)\n",
    "cv2.waitKey()\n",
    "cv2.destroyAllWindows()"
   ]
  },
  {
   "cell_type": "code",
   "execution_count": 8,
   "id": "ef8e4671-9232-4dd3-8976-f560cf3f96c9",
   "metadata": {},
   "outputs": [],
   "source": [
    "img = cv2.imread('lena.jpg', -1)"
   ]
  },
  {
   "cell_type": "code",
   "execution_count": 9,
   "id": "f93ed088-2aab-4dca-8717-d6af355f44de",
   "metadata": {},
   "outputs": [],
   "source": [
    "cv2.imshow(\"image\", img)\n",
    "cv2.waitKey()\n",
    "cv2.destroyAllWindows()"
   ]
  },
  {
   "cell_type": "code",
   "execution_count": 21,
   "id": "d8438b28-d573-4f88-a87b-11d7a0e94182",
   "metadata": {},
   "outputs": [
    {
     "data": {
      "text/plain": [
       "True"
      ]
     },
     "execution_count": 21,
     "metadata": {},
     "output_type": "execute_result"
    }
   ],
   "source": [
    "cv2.imwrite('lena_study..png', img)"
   ]
  },
  {
   "cell_type": "code",
   "execution_count": 2,
   "id": "83a84ddf-9e7d-4076-9d05-a7cb24e3ecfd",
   "metadata": {},
   "outputs": [],
   "source": [
    "import cv2\n",
    "img = cv2.imread('lena.jpg', -1)"
   ]
  },
  {
   "cell_type": "code",
   "execution_count": 5,
   "id": "7bb38aae-e237-4518-ad73-880cdb58f51a",
   "metadata": {},
   "outputs": [],
   "source": [
    "cv2.imshow(\"image\", img)\n",
    "k = cv2.waitKey(0)\n",
    "if k == 27: #when press ESC it close window\n",
    "    cv2.destroyAllWindows()\n",
    "elif k == ord('s'): #when press s it will save image\n",
    "    cv2.imwrite('lena_study.png', img)\n",
    "    cv2.destroyAllWindows()"
   ]
  },
  {
   "cell_type": "code",
   "execution_count": null,
   "id": "df1fdcdb-d03e-44d3-80fe-501937583b32",
   "metadata": {},
   "outputs": [],
   "source": []
  }
 ],
 "metadata": {
  "kernelspec": {
   "display_name": "Python 3 (ipykernel)",
   "language": "python",
   "name": "python3"
  },
  "language_info": {
   "codemirror_mode": {
    "name": "ipython",
    "version": 3
   },
   "file_extension": ".py",
   "mimetype": "text/x-python",
   "name": "python",
   "nbconvert_exporter": "python",
   "pygments_lexer": "ipython3",
   "version": "3.11.6"
  }
 },
 "nbformat": 4,
 "nbformat_minor": 5
}
