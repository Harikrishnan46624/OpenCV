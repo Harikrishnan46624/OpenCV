{
 "cells": [
  {
   "cell_type": "code",
   "execution_count": 1,
   "id": "2792cad5-c7e1-455b-bcb4-e60ca733404b",
   "metadata": {},
   "outputs": [],
   "source": [
    "import cv2"
   ]
  },
  {
   "cell_type": "code",
   "execution_count": 2,
   "id": "049b7939-3011-4e40-87d7-b7b75d6b9f54",
   "metadata": {},
   "outputs": [],
   "source": [
    "img = cv2.imread('lena.jpg', 1)"
   ]
  },
  {
   "cell_type": "code",
   "execution_count": 3,
   "id": "34e7b36b-a95a-45ac-a941-e22955b62174",
   "metadata": {},
   "outputs": [],
   "source": [
    "cv2.imshow('image', img)\n",
    "cv2.waitKey()\n",
    "cv2.destroyAllWindows()"
   ]
  },
  {
   "cell_type": "code",
   "execution_count": null,
   "metadata": {},
   "outputs": [],
   "source": []
  },
  {
   "cell_type": "code",
   "execution_count": 4,
   "id": "6640fc6f-948c-4a50-a81a-d323141d430c",
   "metadata": {},
   "outputs": [],
   "source": [
    "img = cv2.line(img, (0, 0), (255, 255), (0, 0, 255), 5)"
   ]
  },
  {
   "cell_type": "code",
   "execution_count": 5,
   "id": "e86c10ac-4b11-451d-8d47-c26091d759ac",
   "metadata": {},
   "outputs": [],
   "source": [
    "cv2.imshow('image', img)\n",
    "cv2.waitKey()\n",
    "cv2.destroyAllWindows()"
   ]
  },
  {
   "cell_type": "code",
   "execution_count": 6,
   "id": "82c9afd1-c9c0-4e85-8134-d22757eda06f",
   "metadata": {},
   "outputs": [],
   "source": [
    "img = cv2.imread('lena.jpg', 1)"
   ]
  },
  {
   "cell_type": "code",
   "execution_count": 9,
   "id": "5ef36afb-3bd6-4e7c-a55e-ebd06e21d660",
   "metadata": {},
   "outputs": [],
   "source": [
    "img = cv2.arrowedLine(img, (0, 0), (255, 255), (255, 0, 0), 10)"
   ]
  },
  {
   "cell_type": "code",
   "execution_count": 10,
   "id": "1a6b446e-0732-40ad-abb2-ed869918d298",
   "metadata": {},
   "outputs": [],
   "source": [
    "cv2.imshow('image', img)\n",
    "cv2.waitKey()\n",
    "cv2.destroyAllWindows()"
   ]
  },
  {
   "cell_type": "code",
   "execution_count": null,
   "id": "030a691c-e2ca-4413-be09-d328001c339b",
   "metadata": {},
   "outputs": [],
   "source": [
    "cv2.ar"
   ]
  }
 ],
 "metadata": {
  "kernelspec": {
   "display_name": "Python 3 (ipykernel)",
   "language": "python",
   "name": "python3"
  },
  "language_info": {
   "codemirror_mode": {
    "name": "ipython",
    "version": 3
   },
   "file_extension": ".py",
   "mimetype": "text/x-python",
   "name": "python",
   "nbconvert_exporter": "python",
   "pygments_lexer": "ipython3",
   "version": "3.11.6"
  }
 },
 "nbformat": 4,
 "nbformat_minor": 5
}
